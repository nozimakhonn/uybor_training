{
 "cells": [
  {
   "cell_type": "code",
   "execution_count": 661,
   "id": "367e110e-dc42-40b6-ae32-17fc2b4aeaeb",
   "metadata": {},
   "outputs": [
    {
     "name": "stdout",
     "output_type": "stream",
     "text": [
      "Requirement already satisfied: torch in c:\\programdata\\anaconda3\\lib\\site-packages (2.6.0)\n",
      "Requirement already satisfied: filelock in c:\\programdata\\anaconda3\\lib\\site-packages (from torch) (3.13.1)\n",
      "Requirement already satisfied: typing-extensions>=4.10.0 in c:\\programdata\\anaconda3\\lib\\site-packages (from torch) (4.11.0)\n",
      "Requirement already satisfied: networkx in c:\\programdata\\anaconda3\\lib\\site-packages (from torch) (3.3)\n",
      "Requirement already satisfied: jinja2 in c:\\programdata\\anaconda3\\lib\\site-packages (from torch) (3.1.4)\n",
      "Requirement already satisfied: fsspec in c:\\programdata\\anaconda3\\lib\\site-packages (from torch) (2024.6.1)\n",
      "Requirement already satisfied: setuptools in c:\\programdata\\anaconda3\\lib\\site-packages (from torch) (75.1.0)\n",
      "Requirement already satisfied: sympy==1.13.1 in c:\\programdata\\anaconda3\\lib\\site-packages (from torch) (1.13.1)\n",
      "Requirement already satisfied: mpmath<1.4,>=1.1.0 in c:\\programdata\\anaconda3\\lib\\site-packages (from sympy==1.13.1->torch) (1.3.0)\n",
      "Requirement already satisfied: MarkupSafe>=2.0 in c:\\programdata\\anaconda3\\lib\\site-packages (from jinja2->torch) (2.1.3)\n"
     ]
    }
   ],
   "source": [
    "!pip install torch"
   ]
  },
  {
   "cell_type": "code",
   "execution_count": 663,
   "id": "85d0f9aa-e16b-4a0d-a651-9c56dc173ac7",
   "metadata": {},
   "outputs": [],
   "source": [
    "import pandas as pd\n",
    "import numpy as np\n",
    "import torch\n",
    "import torch.nn as nn\n",
    "import torch.optim as optim\n",
    "from sklearn.model_selection import train_test_split\n",
    "from sklearn.preprocessing import StandardScaler, OneHotEncoder\n",
    "from sklearn.compose import ColumnTransformer\n",
    "from sklearn.pipeline import Pipeline\n",
    "from sklearn.metrics import mean_squared_error\n",
    "from sklearn.impute import SimpleImputer"
   ]
  },
  {
   "cell_type": "code",
   "execution_count": 665,
   "id": "0283960b-d69b-4439-92e6-301aeb5a0988",
   "metadata": {},
   "outputs": [],
   "source": [
    "df = pd.read_csv('uybor_11.csv')"
   ]
  },
  {
   "cell_type": "code",
   "execution_count": 667,
   "id": "b5065638-816b-4eb1-9cee-6fb931f517b8",
   "metadata": {},
   "outputs": [
    {
     "data": {
      "text/plain": [
       "Address\n",
       "город Ташкент, Яшнободский район, махаллинский сход граждан Истиклол                    1\n",
       "город Ташкент, Яшнободский район, массив Авиагородок-22                                 1\n",
       "город Ташкент, Чиланзарский район, махалля Чилонзор, улица Мукими                       1\n",
       "Ташкентская область, махаллинский сход граждан Гулистон, улица Миробод                  1\n",
       "город Ташкент, Яшнободский район, махаллинский сход граждан Маърифат, улица Эльбека     1\n",
       "                                                                                       ..\n",
       "город Ташкент, Шайхантахурский район, махаллинский сход граждан Шайхонтохур             1\n",
       "город Ташкент, Яшнободский район, махаллинский сход граждан Алимкент, улица Кадышева    1\n",
       "город Ташкент, Мирзо-Улугбекский район, 3-й квартал                                     1\n",
       "Бухарская область, Бухара                                                               1\n",
       "город Ташкент, Мирабадский район, махаллинский сход граждан Фуркат, улица Янгизамон     1\n",
       "Name: count, Length: 518, dtype: int64"
      ]
     },
     "execution_count": 667,
     "metadata": {},
     "output_type": "execute_result"
    }
   ],
   "source": [
    "df['Address'].value_counts()"
   ]
  },
  {
   "cell_type": "code",
   "execution_count": 669,
   "id": "b4833edc-842e-43b9-9ca7-d82df00f54c6",
   "metadata": {},
   "outputs": [],
   "source": [
    "df.drop(['Title', 'Unnamed: 0.1'], axis=1, inplace=True)\n",
    "df['Room'].value_counts()\n",
    "def convert(value):\n",
    "    value = value.replace(' у.е.', '')\n",
    "    value = value.replace(' ', '')\n",
    "    return float(value)\n",
    "df['Price'] = df['Price'].apply(convert)\n",
    "def clean(value):\n",
    "    value = value.replace('м²', '').strip()\n",
    "    value = value.replace(' ', '')\n",
    "    return float(value)\n",
    "df['Square'] = df['Square'].apply(clean)\n",
    "def clean(value):\n",
    "    value = value.replace('+', '').strip()\n",
    "    return int(value)\n",
    "df['Room'] = df['Room'].apply(clean)\n",
    "\n",
    "    "
   ]
  },
  {
   "cell_type": "code",
   "execution_count": 719,
   "id": "e149a426-2d50-4de9-abbd-394ff2e44322",
   "metadata": {},
   "outputs": [
    {
     "name": "stdout",
     "output_type": "stream",
     "text": [
      "<class 'pandas.core.frame.DataFrame'>\n",
      "RangeIndex: 518 entries, 0 to 517\n",
      "Data columns (total 25 columns):\n",
      " #   Column              Non-Null Count  Dtype  \n",
      "---  ------              --------------  -----  \n",
      " 0   Unnamed: 0          518 non-null    int64  \n",
      " 1   Square              518 non-null    float64\n",
      " 2   Price               518 non-null    float64\n",
      " 3   Room                518 non-null    int64  \n",
      " 4   Floor               518 non-null    int64  \n",
      " 5   Building floor      518 non-null    int64  \n",
      " 6   Renovation          518 non-null    object \n",
      " 7   Material            518 non-null    object \n",
      " 8   Address             518 non-null    object \n",
      " 9   Lift                518 non-null    int64  \n",
      " 10  Bathroom            518 non-null    int64  \n",
      " 11  Washing machine     518 non-null    int64  \n",
      " 12  TV                  518 non-null    int64  \n",
      " 13  Microwave oven      518 non-null    int64  \n",
      " 14  Playground          518 non-null    int64  \n",
      " 15  Furniture           518 non-null    int64  \n",
      " 16  Refrigerator        518 non-null    int64  \n",
      " 17  Air conditioner     518 non-null    int64  \n",
      " 18  Wifi                518 non-null    int64  \n",
      " 19  Cable               518 non-null    int64  \n",
      " 20  Security            518 non-null    int64  \n",
      " 21  Video surveillance  518 non-null    int64  \n",
      " 22  Parking space       518 non-null    int64  \n",
      " 23  Latitude            518 non-null    float64\n",
      " 24  Longitude           518 non-null    float64\n",
      "dtypes: float64(4), int64(18), object(3)\n",
      "memory usage: 101.3+ KB\n"
     ]
    }
   ],
   "source": [
    "df.info()"
   ]
  },
  {
   "cell_type": "code",
   "execution_count": 721,
   "id": "68a3fe4b-5685-4f5e-b4e9-13a0844def0d",
   "metadata": {},
   "outputs": [
    {
     "name": "stdout",
     "output_type": "stream",
     "text": [
      "Index(['Unnamed: 0', 'Square', 'Room', 'Floor', 'Building floor', 'Lift',\n",
      "       'Bathroom', 'Washing machine', 'TV', 'Microwave oven', 'Playground',\n",
      "       'Furniture', 'Refrigerator', 'Air conditioner', 'Wifi', 'Cable',\n",
      "       'Security', 'Video surveillance', 'Parking space', 'Latitude',\n",
      "       'Longitude'],\n",
      "      dtype='object')\n"
     ]
    }
   ],
   "source": [
    "numerical_features = df.drop('Price', axis =1).select_dtypes(include=['int64', 'float64']).columns\n",
    "print(numerical_features)"
   ]
  },
  {
   "cell_type": "code",
   "execution_count": 723,
   "id": "aad35699-94b4-4487-902c-ab7a1a5f6442",
   "metadata": {},
   "outputs": [
    {
     "name": "stdout",
     "output_type": "stream",
     "text": [
      "Index(['Renovation', 'Material'], dtype='object')\n"
     ]
    }
   ],
   "source": [
    "df1 = df.drop(['Price', 'Address'], axis=1)\n",
    "categorical_features = df1.select_dtypes(include='object').columns\n",
    "print(categorical_features)"
   ]
  },
  {
   "cell_type": "code",
   "execution_count": 725,
   "id": "be004c7f-e5d0-4c63-b26f-371556987e6a",
   "metadata": {},
   "outputs": [],
   "source": [
    "target_value = 'Price'\n",
    "target_v = 'Address'"
   ]
  },
  {
   "cell_type": "code",
   "execution_count": null,
   "id": "5d540b5e-f42e-43fd-a268-65240967975f",
   "metadata": {},
   "outputs": [],
   "source": []
  },
  {
   "cell_type": "code",
   "execution_count": 728,
   "id": "cbf68a85-cd8c-48ea-abc2-0fcfa2180623",
   "metadata": {},
   "outputs": [
    {
     "name": "stdout",
     "output_type": "stream",
     "text": [
      "<class 'pandas.core.frame.DataFrame'>\n",
      "RangeIndex: 518 entries, 0 to 517\n",
      "Data columns (total 25 columns):\n",
      " #   Column              Non-Null Count  Dtype  \n",
      "---  ------              --------------  -----  \n",
      " 0   Unnamed: 0          518 non-null    int64  \n",
      " 1   Square              518 non-null    float64\n",
      " 2   Price               518 non-null    float64\n",
      " 3   Room                518 non-null    int64  \n",
      " 4   Floor               518 non-null    int64  \n",
      " 5   Building floor      518 non-null    int64  \n",
      " 6   Renovation          518 non-null    object \n",
      " 7   Material            518 non-null    object \n",
      " 8   Address             518 non-null    object \n",
      " 9   Lift                518 non-null    int64  \n",
      " 10  Bathroom            518 non-null    int64  \n",
      " 11  Washing machine     518 non-null    int64  \n",
      " 12  TV                  518 non-null    int64  \n",
      " 13  Microwave oven      518 non-null    int64  \n",
      " 14  Playground          518 non-null    int64  \n",
      " 15  Furniture           518 non-null    int64  \n",
      " 16  Refrigerator        518 non-null    int64  \n",
      " 17  Air conditioner     518 non-null    int64  \n",
      " 18  Wifi                518 non-null    int64  \n",
      " 19  Cable               518 non-null    int64  \n",
      " 20  Security            518 non-null    int64  \n",
      " 21  Video surveillance  518 non-null    int64  \n",
      " 22  Parking space       518 non-null    int64  \n",
      " 23  Latitude            518 non-null    float64\n",
      " 24  Longitude           518 non-null    float64\n",
      "dtypes: float64(4), int64(18), object(3)\n",
      "memory usage: 101.3+ KB\n"
     ]
    }
   ],
   "source": [
    "# !pip install yandex-geocoder\n",
    "df.info()"
   ]
  },
  {
   "cell_type": "code",
   "execution_count": 682,
   "id": "8f4f9c56-1dd2-49c2-b915-b80a6cb91f70",
   "metadata": {},
   "outputs": [],
   "source": [
    "from yandex_geocoder import Client\n",
    "def api(value):\n",
    "\n",
    "    client = Client(\"363a3afc-06fc-4db8-80ad-dcff30c91d0b\")\n",
    "    lat, long = client.coordinates(value)\n",
    "    return float(lat)\n",
    "df['Latitude'] = df['Address'].apply(api)\n"
   ]
  },
  {
   "cell_type": "code",
   "execution_count": 683,
   "id": "bdcc51fe-9019-48d3-8b5a-4a705d849824",
   "metadata": {},
   "outputs": [],
   "source": [
    "from yandex_geocoder import Client\n",
    "def api(value):\n",
    "\n",
    "    client = Client(\"363a3afc-06fc-4db8-80ad-dcff30c91d0b\")\n",
    "    lat, long = client.coordinates(value)\n",
    "    return float(lat)\n",
    "df['Longitude'] = df['Address'].apply(api)\n"
   ]
  },
  {
   "cell_type": "code",
   "execution_count": 685,
   "id": "a4bf598c-eff8-4615-b911-13b9ff50db53",
   "metadata": {},
   "outputs": [
    {
     "name": "stdout",
     "output_type": "stream",
     "text": [
      "<class 'pandas.core.frame.DataFrame'>\n",
      "RangeIndex: 518 entries, 0 to 517\n",
      "Data columns (total 25 columns):\n",
      " #   Column              Non-Null Count  Dtype  \n",
      "---  ------              --------------  -----  \n",
      " 0   Unnamed: 0          518 non-null    int64  \n",
      " 1   Square              518 non-null    float64\n",
      " 2   Price               518 non-null    float64\n",
      " 3   Room                518 non-null    int64  \n",
      " 4   Floor               518 non-null    int64  \n",
      " 5   Building floor      518 non-null    int64  \n",
      " 6   Renovation          518 non-null    object \n",
      " 7   Material            518 non-null    object \n",
      " 8   Address             518 non-null    object \n",
      " 9   Lift                518 non-null    int64  \n",
      " 10  Bathroom            518 non-null    int64  \n",
      " 11  Washing machine     518 non-null    int64  \n",
      " 12  TV                  518 non-null    int64  \n",
      " 13  Microwave oven      518 non-null    int64  \n",
      " 14  Playground          518 non-null    int64  \n",
      " 15  Furniture           518 non-null    int64  \n",
      " 16  Refrigerator        518 non-null    int64  \n",
      " 17  Air conditioner     518 non-null    int64  \n",
      " 18  Wifi                518 non-null    int64  \n",
      " 19  Cable               518 non-null    int64  \n",
      " 20  Security            518 non-null    int64  \n",
      " 21  Video surveillance  518 non-null    int64  \n",
      " 22  Parking space       518 non-null    int64  \n",
      " 23  Latitude            518 non-null    float64\n",
      " 24  Longitude           518 non-null    float64\n",
      "dtypes: float64(4), int64(18), object(3)\n",
      "memory usage: 101.3+ KB\n"
     ]
    }
   ],
   "source": [
    "df.info()\n"
   ]
  },
  {
   "cell_type": "code",
   "execution_count": 730,
   "id": "33675302-59c5-4f31-ae2c-8dd3e2b51ccb",
   "metadata": {},
   "outputs": [],
   "source": [
    "x = df.drop('Price', axis=1)\n",
    "y = df['Price']"
   ]
  },
  {
   "cell_type": "code",
   "execution_count": 732,
   "id": "10f12c03-305d-47c8-b66b-075f2a843259",
   "metadata": {},
   "outputs": [],
   "source": [
    "sc = StandardScaler()\n",
    "oe = OneHotEncoder()\n",
    "num_transformer = Pipeline(\n",
    "    steps=[\n",
    "        ('imputer', SimpleImputer(strategy='median')),\n",
    "        ('scaler', sc)\n",
    "    ]\n",
    ")\n",
    "\n",
    "cat_transformer = Pipeline(\n",
    "    steps=[\n",
    "        ('imputer', SimpleImputer(strategy='most_frequent')),\n",
    "        ('scaler', oe)\n",
    "    ]\n",
    ")"
   ]
  },
  {
   "cell_type": "code",
   "execution_count": 734,
   "id": "4e7c7a7b-c5b8-49eb-b83e-ad894c3ecfce",
   "metadata": {},
   "outputs": [],
   "source": [
    "preprocessor = ColumnTransformer(\n",
    "    transformers=[\n",
    "        ('num', num_transformer, numerical_features),\n",
    "        ('cat', cat_transformer, categorical_features),\n",
    "    ]\n",
    ")"
   ]
  },
  {
   "cell_type": "code",
   "execution_count": 736,
   "id": "a32a8487-49e6-4ec3-9236-dd36209132e6",
   "metadata": {},
   "outputs": [],
   "source": [
    "x_proccessed = preprocessor.fit_transform(x)\n",
    "y_proccessed = np.log1p(y)"
   ]
  },
  {
   "cell_type": "code",
   "execution_count": 738,
   "id": "ce75c904-81ed-4704-912b-2531978e28b6",
   "metadata": {},
   "outputs": [],
   "source": [
    "x_train, x_test, y_train, y_test = train_test_split(x_proccessed, y_proccessed, test_size=0.2, random_state=42)"
   ]
  },
  {
   "cell_type": "code",
   "execution_count": 740,
   "id": "830a5331-e585-4b65-9ff2-fc2f56858d44",
   "metadata": {},
   "outputs": [
    {
     "name": "stdout",
     "output_type": "stream",
     "text": [
      "<class 'pandas.core.frame.DataFrame'>\n",
      "RangeIndex: 518 entries, 0 to 517\n",
      "Data columns (total 25 columns):\n",
      " #   Column              Non-Null Count  Dtype  \n",
      "---  ------              --------------  -----  \n",
      " 0   Unnamed: 0          518 non-null    int64  \n",
      " 1   Square              518 non-null    float64\n",
      " 2   Price               518 non-null    float64\n",
      " 3   Room                518 non-null    int64  \n",
      " 4   Floor               518 non-null    int64  \n",
      " 5   Building floor      518 non-null    int64  \n",
      " 6   Renovation          518 non-null    object \n",
      " 7   Material            518 non-null    object \n",
      " 8   Address             518 non-null    object \n",
      " 9   Lift                518 non-null    int64  \n",
      " 10  Bathroom            518 non-null    int64  \n",
      " 11  Washing machine     518 non-null    int64  \n",
      " 12  TV                  518 non-null    int64  \n",
      " 13  Microwave oven      518 non-null    int64  \n",
      " 14  Playground          518 non-null    int64  \n",
      " 15  Furniture           518 non-null    int64  \n",
      " 16  Refrigerator        518 non-null    int64  \n",
      " 17  Air conditioner     518 non-null    int64  \n",
      " 18  Wifi                518 non-null    int64  \n",
      " 19  Cable               518 non-null    int64  \n",
      " 20  Security            518 non-null    int64  \n",
      " 21  Video surveillance  518 non-null    int64  \n",
      " 22  Parking space       518 non-null    int64  \n",
      " 23  Latitude            518 non-null    float64\n",
      " 24  Longitude           518 non-null    float64\n",
      "dtypes: float64(4), int64(18), object(3)\n",
      "memory usage: 101.3+ KB\n"
     ]
    }
   ],
   "source": [
    "df.info()"
   ]
  },
  {
   "cell_type": "code",
   "execution_count": 742,
   "id": "93625f6d-6b72-40e6-bfad-0c05080f94d7",
   "metadata": {},
   "outputs": [
    {
     "name": "stdout",
     "output_type": "stream",
     "text": [
      "Original form: (414, 33)\n",
      "Tensor form: torch.Size([414, 33])\n",
      "Original form: (414,)\n",
      "Tensor form: torch.Size([414, 1])\n"
     ]
    }
   ],
   "source": [
    "x_train_tensor = torch.FloatTensor(x_train)\n",
    "x_test_tensor = torch.FloatTensor(x_test)\n",
    "y_train_tensor = torch.FloatTensor(y_train.values).reshape(-1,1)\n",
    "y_test_tensor = torch.FloatTensor(y_test.values).reshape(-1,1)\n",
    "print('Original form:', x_train.shape)\n",
    "print('Tensor form:', x_train_tensor.shape)\n",
    "print('Original form:', y_train.shape)\n",
    "print('Tensor form:', y_train_tensor.shape)"
   ]
  },
  {
   "cell_type": "code",
   "execution_count": 744,
   "id": "e79140fe-fb18-4a3e-bc0c-33ed64123c5c",
   "metadata": {},
   "outputs": [],
   "source": [
    "#batch malumotlar qismi"
   ]
  },
  {
   "cell_type": "code",
   "execution_count": 746,
   "id": "0488963a-33b5-4a5c-bc81-bc4b0f02cf8d",
   "metadata": {},
   "outputs": [],
   "source": [
    "class HomePrices(nn.Module):\n",
    "    def __init__(self, input_size):\n",
    "        super().__init__()\n",
    "        self.layer1 = nn.Linear(input_size, 32)\n",
    "        self.layer2 = nn.Linear(32, 16)\n",
    "        self.layer3 = nn.Linear(16, 8)\n",
    "        self.layer4 = nn.Linear(8, 4)\n",
    "        self.layer5 = nn.Linear(4, 2)\n",
    "        self.layer6 = nn.Linear(2, 1)\n",
    "        self.dropout = nn.Dropout(0.2)\n",
    "\n",
    "    def forward(self, x):\n",
    "        x = torch.relu(self.layer1(x))\n",
    "        x = self.dropout(x)\n",
    "        x = torch.relu(self.layer2(x))\n",
    "        x = self.dropout(x)\n",
    "        x = torch.relu(self.layer3(x))\n",
    "        x = self.dropout(x)\n",
    "        x = torch.relu(self.layer4(x))\n",
    "        x = self.dropout(x)\n",
    "        x = torch.relu(self.layer5(x))\n",
    "        x = self.dropout(x)\n",
    "        x = self.layer6(x)\n",
    "\n",
    "        return x\n",
    "\n",
    "input_size = x_train_tensor.shape[1]\n",
    "model = HomePrices(input_size)\n",
    "        \n"
   ]
  },
  {
   "cell_type": "code",
   "execution_count": 748,
   "id": "f8b5acca-cdf2-463e-bbfb-166eb3f7a9d4",
   "metadata": {},
   "outputs": [],
   "source": [
    "criterion = nn.MSELoss()\n",
    "optimizer = optim.Adam(model.parameters(), lr=0.0001)"
   ]
  },
  {
   "cell_type": "code",
   "execution_count": 750,
   "id": "2d0f9ddd-08bd-417a-9c0f-a41a5efbdd97",
   "metadata": {},
   "outputs": [],
   "source": [
    "num_epoch = 200\n",
    "batch_size = 64\n",
    "train_loss = []\n",
    "test_losses = []\n"
   ]
  },
  {
   "cell_type": "code",
   "execution_count": 752,
   "id": "2118e805-79a4-4861-ae1b-c03405057f20",
   "metadata": {},
   "outputs": [
    {
     "name": "stdout",
     "output_type": "stream",
     "text": [
      "Epoch: 20/200 Train Loss: 2.3175111116418514 Test Loss: 136.47999572753906\n",
      "Epoch: 40/200 Train Loss: 2.305073060851166 Test Loss: 135.66734313964844\n",
      "Epoch: 60/200 Train Loss: 2.2714603442500754 Test Loss: 133.99526977539062\n",
      "Epoch: 80/200 Train Loss: 2.2194376959316973 Test Loss: 129.962158203125\n",
      "Epoch: 100/200 Train Loss: 2.087589190202059 Test Loss: 122.03296661376953\n",
      "Epoch: 120/200 Train Loss: 1.8555635830054535 Test Loss: 111.30950164794922\n",
      "Epoch: 140/200 Train Loss: 1.356100054754727 Test Loss: 82.14933776855469\n",
      "Epoch: 160/200 Train Loss: 0.9093811661724883 Test Loss: 60.267555236816406\n",
      "Epoch: 180/200 Train Loss: 0.7790146334735668 Test Loss: 36.746700286865234\n",
      "Epoch: 200/200 Train Loss: 0.6693520615066307 Test Loss: 40.64542770385742\n",
      "Training Loss: 16.029159545898438\n",
      "Training MSE: 16.02916\n",
      "Training RMSE: 4.0036435\n",
      "Test Loss: 15.119625091552734\n",
      "Test MSE: 15.119625\n",
      "Test RMSE: 3.8883963\n"
     ]
    }
   ],
   "source": [
    "for i in range(num_epoch):\n",
    "    model.train()\n",
    "    epoch_loss = 0\n",
    "    for j in range(0, len(x_train_tensor), batch_size):\n",
    "        batch_x = x_train_tensor[j:j+batch_size]\n",
    "        batch_y = y_train_tensor[j:j+batch_size]\n",
    "        outputs = model(batch_x)\n",
    "        loss = criterion(outputs, batch_y)\n",
    "        optimizer.zero_grad()\n",
    "        loss.backward()\n",
    "        optimizer.step()\n",
    "        epoch_loss += loss.item()\n",
    "    avg_train_loss = epoch_loss/len(x_train_tensor/batch_size)\n",
    "    with torch.no_grad():\n",
    "        test_outputs = model(x_test_tensor)\n",
    "        test_loss = criterion(test_outputs, y_test_tensor)\n",
    "        test_losses.append(test_loss.item())\n",
    "\n",
    "    if (i+1)%20 == 0:\n",
    "        print(f\"Epoch: {i+1}/{num_epoch} Train Loss: {avg_train_loss} Test Loss: {test_loss.item()}\")\n",
    "\n",
    "model.eval()\n",
    "with torch.no_grad():\n",
    "    train_outputs = model(x_train_tensor)\n",
    "    train_loss = criterion(train_outputs, y_train_tensor)\n",
    "    train_mse = mean_squared_error(y_train_tensor, train_outputs)\n",
    "    rmse = np.sqrt(train_mse)\n",
    "\n",
    "    test_outputs = model(x_test_tensor)\n",
    "    test_loss = criterion(test_outputs, y_test_tensor)\n",
    "    test_mse = mean_squared_error(y_test_tensor, test_outputs)\n",
    "    test_rmse = np.sqrt(test_mse)\n",
    "    print(\"Training Loss:\", train_loss.item())\n",
    "    print(\"Training MSE:\", train_mse)\n",
    "    print(\"Training RMSE:\", rmse)\n",
    "    print(\"Test Loss:\", test_loss.item())\n",
    "    print(\"Test MSE:\", test_mse)\n",
    "    print(\"Test RMSE:\", test_rmse)\n",
    "    "
   ]
  },
  {
   "cell_type": "code",
   "execution_count": 754,
   "id": "4db01530-58d0-4cad-b0c6-dfd3fa15da99",
   "metadata": {},
   "outputs": [],
   "source": [
    "\n",
    "df.to_csv('uybor_11_.csv', index=False)\n"
   ]
  },
  {
   "cell_type": "code",
   "execution_count": null,
   "id": "d293f8c8-0569-4142-aee6-f1ee52316505",
   "metadata": {},
   "outputs": [],
   "source": []
  },
  {
   "cell_type": "code",
   "execution_count": null,
   "id": "db02ed8d-f237-46d9-b8ea-a255e3a368cc",
   "metadata": {},
   "outputs": [],
   "source": []
  },
  {
   "cell_type": "code",
   "execution_count": null,
   "id": "5538422f-eb52-4bc9-ad0e-747b05d1f2c6",
   "metadata": {},
   "outputs": [],
   "source": []
  },
  {
   "cell_type": "code",
   "execution_count": null,
   "id": "3321457a-1482-4f1c-8424-2a3c45f9b4b6",
   "metadata": {},
   "outputs": [],
   "source": []
  },
  {
   "cell_type": "code",
   "execution_count": null,
   "id": "4b991e8f-2ad0-42f7-84c4-e3ec25196851",
   "metadata": {},
   "outputs": [],
   "source": []
  },
  {
   "cell_type": "code",
   "execution_count": null,
   "id": "3d5942c3-7458-4407-b02a-7b23befe38e5",
   "metadata": {},
   "outputs": [],
   "source": []
  }
 ],
 "metadata": {
  "kernelspec": {
   "display_name": "Python [conda env:base] *",
   "language": "python",
   "name": "conda-base-py"
  },
  "language_info": {
   "codemirror_mode": {
    "name": "ipython",
    "version": 3
   },
   "file_extension": ".py",
   "mimetype": "text/x-python",
   "name": "python",
   "nbconvert_exporter": "python",
   "pygments_lexer": "ipython3",
   "version": "3.12.7"
  }
 },
 "nbformat": 4,
 "nbformat_minor": 5
}
